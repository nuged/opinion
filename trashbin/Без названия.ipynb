{
 "cells": [
  {
   "cell_type": "code",
   "execution_count": 1,
   "metadata": {},
   "outputs": [],
   "source": [
    "import os\n",
    "import re"
   ]
  },
  {
   "cell_type": "code",
   "execution_count": 2,
   "metadata": {},
   "outputs": [],
   "source": [
    "import pymorphy2\n",
    "from nltk.tokenize import TweetTokenizer\n",
    "\n",
    "morph = pymorphy2.MorphAnalyzer()\n",
    "tok = TweetTokenizer(preserve_case=False)"
   ]
  },
  {
   "cell_type": "code",
   "execution_count": 3,
   "metadata": {},
   "outputs": [],
   "source": [
    "wordset = {w.strip() for w in open('alphabet_rus.txt', encoding='cp1251')}"
   ]
  },
  {
   "cell_type": "code",
   "execution_count": 17,
   "metadata": {},
   "outputs": [],
   "source": [
    "from multiprocessing import Pool\n",
    "\n",
    "def process_word(word):\n",
    "    if word.isalnum():\n",
    "        if morph.parse(word)[0].normal_form in wordset:\n",
    "            return word\n",
    "\n",
    "\n",
    "pattern = re.compile('<div class=\\\"text-block\\\">([\\s\\S]+)</div>')\n",
    "\n",
    "texts = []\n",
    "empty = []\n",
    "\n",
    "p = Pool(processes=4)\n",
    "\n",
    "for d in os.listdir('data'):\n",
    "    for file in os.listdir(os.path.join('data', d)):\n",
    "        path = os.path.join('data', d, file)\n",
    "        with open(path) as f:\n",
    "            data = f.read()\n",
    "        text = pattern.search(data).group(1).strip()\n",
    "        words = p.map(process_word, tok.tokenize(text))\n",
    "        flag = False\n",
    "        for word in words:\n",
    "            if word is not None:\n",
    "                text = text.replace(\" \" + word, \" \" + word.upper())\n",
    "                flag = True\n",
    "        if flag:\n",
    "            texts.append(text)\n",
    "        else:\n",
    "            empty.append(text)\n",
    "p.close()"
   ]
  },
  {
   "cell_type": "code",
   "execution_count": 21,
   "metadata": {},
   "outputs": [],
   "source": [
    "with open('found.txt', 'w') as f:\n",
    "    f.write('\\n-/-\\n'.join(texts))"
   ]
  },
  {
   "cell_type": "code",
   "execution_count": 16,
   "metadata": {},
   "outputs": [],
   "source": [
    "with open('rest.txt', 'w') as f:\n",
    "    f.write('\\n-/-\\n'.join(empty))"
   ]
  },
  {
   "cell_type": "code",
   "execution_count": 22,
   "metadata": {},
   "outputs": [
    {
     "data": {
      "text/plain": [
       "'За последние сутки в России выявлено 7 600 заболевших новой коронавирусной инфекцией в 83 регионах, из них 2 473 случая (32,5%) – активно у контактных лиц без клинических проявлений болезни❗️\\n\\nВсего в стране нарастающим итогом выявлено 592 280 заболевших в 85 регионах. \\n\\nТакже за сутки зафиксировано 95 летальных случаев. За ВЕСЬ период в России от коронавируса скончались 8 206 человек.\\n\\nКарта заболеваемости коронавирусной инфекцией с подробностями по регионам и динамикой по дням – на сайте стопкоронавирус.рф\\n\\n#стопкоронавирус #здоровьевприоритете #coronavirus'"
      ]
     },
     "execution_count": 22,
     "metadata": {},
     "output_type": "execute_result"
    }
   ],
   "source": [
    "texts[0]"
   ]
  },
  {
   "cell_type": "code",
   "execution_count": null,
   "metadata": {},
   "outputs": [],
   "source": []
  }
 ],
 "metadata": {
  "kernelspec": {
   "display_name": "Python 3",
   "language": "python",
   "name": "python3"
  },
  "language_info": {
   "codemirror_mode": {
    "name": "ipython",
    "version": 3
   },
   "file_extension": ".py",
   "mimetype": "text/x-python",
   "name": "python",
   "nbconvert_exporter": "python",
   "pygments_lexer": "ipython3",
   "version": "3.8.5"
  }
 },
 "nbformat": 4,
 "nbformat_minor": 4
}
